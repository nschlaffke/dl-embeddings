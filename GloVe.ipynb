{
 "cells": [
  {
   "cell_type": "code",
   "execution_count": null,
   "metadata": {},
   "outputs": [],
   "source": [
    "from sklearn.datasets import fetch_20newsgroups\n",
    "from sklearn.model_selection import train_test_split\n",
    "from gensim.models import Word2Vec\n",
    "import re\n",
    "import numpy as np\n",
    "from sklearn.linear_model import LogisticRegression\n",
    "from sklearn.manifold import TSNE\n",
    "import matplotlib as mpl\n",
    "import matplotlib.pyplot as plt\n",
    "import pylab\n",
    "from glove import Glove, Corpus\n",
    "%matplotlib inline"
   ]
  },
  {
   "cell_type": "code",
   "execution_count": null,
   "metadata": {},
   "outputs": [],
   "source": [
    "MIN_COUNT = 5 # the minimal number of occurences for a particular word in order to be included\n",
    "SIZE = 300 # the size of the embedding\n",
    "TEST_SET = 0.2\n",
    "T_SNE = False\n",
    "K_MEANS = True\n",
    "CLASSIFIER = True"
   ]
  },
  {
   "cell_type": "code",
   "execution_count": null,
   "metadata": {},
   "outputs": [],
   "source": [
    "dataset = fetch_20newsgroups(subset='all', shuffle=True)"
   ]
  },
  {
   "cell_type": "code",
   "execution_count": null,
   "metadata": {},
   "outputs": [],
   "source": [
    "def preproc(line):\n",
    "    line = re.sub('[!\"#$%&()*+,-./:;<=>?@[\\\\]^_`{|}~\\t\\n]', ' ', line)\n",
    "    line = re.sub('[0-9]', '', line)\n",
    "    words = line.lower().split()\n",
    "    proper = []\n",
    "    for word in words:\n",
    "        if len(word) > 2:\n",
    "            proper.append(word)\n",
    "    return proper\n",
    "\n",
    "X_train, X_test, y_train, y_test = train_test_split(dataset.data, dataset.target, test_size=TEST_SET)\n",
    "X_train, X_test = [preproc(line) for line in X_train], [preproc(line) for line in X_test]"
   ]
  },
  {
   "cell_type": "code",
   "execution_count": null,
   "metadata": {},
   "outputs": [],
   "source": [
    "corpus = Corpus()\n",
    "corpus.fit(X_train)\n",
    "\n",
    "glove = Glove(no_components=SIZE, learning_rate=0.05)\n",
    " \n",
    "glove.fit(corpus.matrix, epochs=30, no_threads=8, verbose=True)\n",
    "glove.add_dictionary(corpus.dictionary)\n",
    "model = glove"
   ]
  },
  {
   "cell_type": "code",
   "execution_count": null,
   "metadata": {},
   "outputs": [],
   "source": [
    "object_methods = [method_name for method_name in dir(glove)]\n",
    "glove.word_vectors[glove.dictionary['only']]"
   ]
  },
  {
   "cell_type": "code",
   "execution_count": null,
   "metadata": {},
   "outputs": [],
   "source": [
    "def sentence2vector(data, glove):\n",
    "    x = []\n",
    "    for line in data:\n",
    "        vector = []\n",
    "        for word in line:\n",
    "            if word in glove.dictionary.keys():\n",
    "                vector.append(glove.word_vectors[glove.dictionary[word]])\n",
    "        x.append(vector)\n",
    "    return x"
   ]
  },
  {
   "cell_type": "code",
   "execution_count": null,
   "metadata": {},
   "outputs": [],
   "source": [
    "X_train, X_test = sentence2vector(X_train, model), sentence2vector(X_test, model)\n",
    "print('X_train: %d\\nX_test %d' % (len(X_train), len(X_test)))"
   ]
  },
  {
   "cell_type": "code",
   "execution_count": null,
   "metadata": {},
   "outputs": [],
   "source": [
    "def averageVectors(data, labels):\n",
    "    avg = []\n",
    "    labels_clear = []\n",
    "    for row, label in zip(data, labels):\n",
    "        if len(row) > 0:\n",
    "            sample = sum(row)/len(row)\n",
    "            avg.append(sample)\n",
    "            labels_clear.append(label)\n",
    "    return avg, labels_clear"
   ]
  },
  {
   "cell_type": "code",
   "execution_count": null,
   "metadata": {},
   "outputs": [],
   "source": [
    "X_train, y_train = averageVectors(X_train, y_train)\n",
    "X_test, y_test = averageVectors(X_test, y_test)"
   ]
  },
  {
   "cell_type": "code",
   "execution_count": null,
   "metadata": {},
   "outputs": [],
   "source": [
    "if T_SNE:\n",
    "    tsne = TSNE(verbose=1, n_iter=2500, learning_rate=1000)\n",
    "    result = tsne.fit_transform(X_train)\n",
    "    \n",
    "    import random\n",
    " \n",
    "    def colors(n):\n",
    "        ret = []\n",
    "        r = int(random.random() * 256)\n",
    "        g = int(random.random() * 256)\n",
    "        b = int(random.random() * 256)\n",
    "        step = 256 / n\n",
    "        for i in range(n):\n",
    "            r += step\n",
    "            g += step\n",
    "            b += step\n",
    "            r = int(r) % 256\n",
    "            g = int(g) % 256\n",
    "            b = int(b) % 256\n",
    "            ret.append((r/256,g/256,b/256)) \n",
    "        return ret\n",
    "\n",
    "    colors = colors(20)\n",
    "    m = plt.get_cmap()\n",
    "    x = np.array(np.matrix(result)[:,0].reshape(1,-1))\n",
    "    y = np.array(np.matrix(result)[:,1].reshape(1,-1))\n",
    "    c = [colors[i] for i in y_train]\n",
    "    plt.scatter(x, y, c=c)\n",
    "    plt.savefig('glove.pdf')"
   ]
  },
  {
   "cell_type": "code",
   "execution_count": null,
   "metadata": {},
   "outputs": [],
   "source": [
    "print('X_train: %d\\nX_test %d' % (len(X_train), len(X_test)))\n",
    "print('\\nExample:')\n",
    "print(X_train[0])"
   ]
  },
  {
   "cell_type": "code",
   "execution_count": null,
   "metadata": {},
   "outputs": [],
   "source": [
    "# TODO randomowe slowa, wybrac najbardziej podobne uzyc tsne i narysowac"
   ]
  },
  {
   "cell_type": "code",
   "execution_count": null,
   "metadata": {},
   "outputs": [],
   "source": [
    "for reg in [1, 10, 100, 1000, 10000]:\n",
    "    classifier = LogisticRegression(\n",
    "                solver='lbfgs', max_iter=3000, multi_class='multinomial', C=reg)\n",
    "    classifier.fit(X_train, y_train)\n",
    "    print(\"Lambda: %f acc: %.3f \" % (1/reg, classifier.score(X_test, y_test)))"
   ]
  },
  {
   "cell_type": "code",
   "execution_count": null,
   "metadata": {},
   "outputs": [],
   "source": []
  }
 ],
 "metadata": {
  "kernelspec": {
   "display_name": "Python 3",
   "language": "python",
   "name": "python3"
  },
  "language_info": {
   "codemirror_mode": {
    "name": "ipython",
    "version": 3
   },
   "file_extension": ".py",
   "mimetype": "text/x-python",
   "name": "python",
   "nbconvert_exporter": "python",
   "pygments_lexer": "ipython3",
   "version": "3.6.7"
  }
 },
 "nbformat": 4,
 "nbformat_minor": 2
}
